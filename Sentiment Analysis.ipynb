{
 "cells": [
  {
   "cell_type": "markdown",
   "metadata": {},
   "source": [
    "# Import Required Library"
   ]
  },
  {
   "cell_type": "code",
   "execution_count": 1,
   "metadata": {},
   "outputs": [
    {
     "name": "stderr",
     "output_type": "stream",
     "text": [
      "[nltk_data] Downloading package stopwords to C:\\Users\\Sonu\n",
      "[nltk_data]     Kumar\\AppData\\Roaming\\nltk_data...\n",
      "[nltk_data]   Package stopwords is already up-to-date!\n"
     ]
    }
   ],
   "source": [
    "import numpy as np\n",
    "import pandas as pd\n",
    "import re\n",
    "from bs4 import BeautifulSoup\n",
    "from tensorflow.keras.preprocessing.text import Tokenizer \n",
    "from tensorflow.keras.preprocessing.sequence import pad_sequences\n",
    "from nltk.corpus import stopwords\n",
    "from tensorflow.keras.layers import Input, LSTM, Embedding, Dense, Concatenate, TimeDistributed, Bidirectional, Add, Activation,Dropout\n",
    "from tensorflow.keras.models import Model\n",
    "from tensorflow.keras.callbacks import EarlyStopping\n",
    "from attention import AttentionLayer\n",
    "import warnings\n",
    "import os\n",
    "import nltk \n",
    "nltk.download('stopwords')\n",
    "pd.set_option(\"display.max_colwidth\", 200)\n",
    "warnings.filterwarnings(\"ignore\")"
   ]
  },
  {
   "cell_type": "markdown",
   "metadata": {},
   "source": [
    "### Datasets :-> It contains sentences labelled with positive or negative sentiment. The sentences come from three different websites/fields:<b>imdb.com</b> <b>amazon.com</b> <b>yelp.com</b>\n",
    "<a href='https://archive.ics.uci.edu/ml/datasets/Sentiment+Labelled+Sentences'>Link of datase</a>"
   ]
  },
  {
   "cell_type": "code",
   "execution_count": 2,
   "metadata": {},
   "outputs": [],
   "source": [
    "text_list = []\n",
    "label_list = []    \n",
    "ss = open('sentiment labelled sentences/imdb_labelled.txt' , encoding='utf-8')     # open file imdb_labelled.txt\n",
    "ss = ss.readlines()\n",
    "for i in ss:\n",
    "    text = i.strip().split('\\t')\n",
    "    text_list.append(text[0])\n",
    "    label_list.append(int(text[1]))\n",
    "ss = open('sentiment labelled sentences/amazon_cells_labelled.txt' , encoding='utf-8')   # open file amazon_cells_labelled.txt\n",
    "ss = ss.readlines()\n",
    "for i in ss:\n",
    "    text = i.strip().split('\\t')\n",
    "    text_list.append(text[0])\n",
    "    label_list.append(int(text[1]))\n",
    "ss = open('sentiment labelled sentences/yelp_labelled.txt' , encoding='utf-8')    # open file yelp_labelled.txt\n",
    "ss = ss.readlines()\n",
    "for i in ss:\n",
    "    text = i.strip().split('\\t')\n",
    "    text_list.append(text[0])\n",
    "    label_list.append(int(text[1]))\n",
    " "
   ]
  },
  {
   "cell_type": "markdown",
   "metadata": {},
   "source": [
    "## Creating DataFrame"
   ]
  },
  {
   "cell_type": "code",
   "execution_count": 3,
   "metadata": {},
   "outputs": [],
   "source": [
    "dataframe = pd.DataFrame()\n",
    "dataframe['Text'] = text_list\n",
    "dataframe['label'] = label_list\n"
   ]
  },
  {
   "cell_type": "code",
   "execution_count": 4,
   "metadata": {},
   "outputs": [
    {
     "data": {
      "text/html": [
       "<div>\n",
       "<style scoped>\n",
       "    .dataframe tbody tr th:only-of-type {\n",
       "        vertical-align: middle;\n",
       "    }\n",
       "\n",
       "    .dataframe tbody tr th {\n",
       "        vertical-align: top;\n",
       "    }\n",
       "\n",
       "    .dataframe thead th {\n",
       "        text-align: right;\n",
       "    }\n",
       "</style>\n",
       "<table border=\"1\" class=\"dataframe\">\n",
       "  <thead>\n",
       "    <tr style=\"text-align: right;\">\n",
       "      <th></th>\n",
       "      <th>Text</th>\n",
       "      <th>label</th>\n",
       "    </tr>\n",
       "  </thead>\n",
       "  <tbody>\n",
       "    <tr>\n",
       "      <th>0</th>\n",
       "      <td>A very, very, very slow-moving, aimless movie about a distressed, drifting young man.</td>\n",
       "      <td>0</td>\n",
       "    </tr>\n",
       "    <tr>\n",
       "      <th>1</th>\n",
       "      <td>Not sure who was more lost - the flat characters or the audience, nearly half of whom walked out.</td>\n",
       "      <td>0</td>\n",
       "    </tr>\n",
       "    <tr>\n",
       "      <th>2</th>\n",
       "      <td>Attempting artiness with black &amp; white and clever camera angles, the movie disappointed - became even more ridiculous - as the acting was poor and the plot and lines almost non-existent.</td>\n",
       "      <td>0</td>\n",
       "    </tr>\n",
       "    <tr>\n",
       "      <th>3</th>\n",
       "      <td>Very little music or anything to speak of.</td>\n",
       "      <td>0</td>\n",
       "    </tr>\n",
       "    <tr>\n",
       "      <th>4</th>\n",
       "      <td>The best scene in the movie was when Gerardo is trying to find a song that keeps running through his head.</td>\n",
       "      <td>1</td>\n",
       "    </tr>\n",
       "  </tbody>\n",
       "</table>\n",
       "</div>"
      ],
      "text/plain": [
       "                                                                                                                                                                                           Text  \\\n",
       "0                                                                                                       A very, very, very slow-moving, aimless movie about a distressed, drifting young man.     \n",
       "1                                                                                           Not sure who was more lost - the flat characters or the audience, nearly half of whom walked out.     \n",
       "2  Attempting artiness with black & white and clever camera angles, the movie disappointed - became even more ridiculous - as the acting was poor and the plot and lines almost non-existent.     \n",
       "3                                                                                                                                                  Very little music or anything to speak of.     \n",
       "4                                                                                  The best scene in the movie was when Gerardo is trying to find a song that keeps running through his head.     \n",
       "\n",
       "   label  \n",
       "0      0  \n",
       "1      0  \n",
       "2      0  \n",
       "3      0  \n",
       "4      1  "
      ]
     },
     "execution_count": 4,
     "metadata": {},
     "output_type": "execute_result"
    }
   ],
   "source": [
    "dataframe.head()"
   ]
  },
  {
   "cell_type": "markdown",
   "metadata": {},
   "source": [
    "### Shuffle the data of dataframe"
   ]
  },
  {
   "cell_type": "code",
   "execution_count": 5,
   "metadata": {},
   "outputs": [
    {
     "data": {
      "text/html": [
       "<div>\n",
       "<style scoped>\n",
       "    .dataframe tbody tr th:only-of-type {\n",
       "        vertical-align: middle;\n",
       "    }\n",
       "\n",
       "    .dataframe tbody tr th {\n",
       "        vertical-align: top;\n",
       "    }\n",
       "\n",
       "    .dataframe thead th {\n",
       "        text-align: right;\n",
       "    }\n",
       "</style>\n",
       "<table border=\"1\" class=\"dataframe\">\n",
       "  <thead>\n",
       "    <tr style=\"text-align: right;\">\n",
       "      <th></th>\n",
       "      <th>Text</th>\n",
       "      <th>label</th>\n",
       "    </tr>\n",
       "  </thead>\n",
       "  <tbody>\n",
       "    <tr>\n",
       "      <th>1414</th>\n",
       "      <td>After a year the battery went completely dead on my headset.</td>\n",
       "      <td>0</td>\n",
       "    </tr>\n",
       "    <tr>\n",
       "      <th>1519</th>\n",
       "      <td>I am not impressed with this and i would not recommend this item to anyone.</td>\n",
       "      <td>0</td>\n",
       "    </tr>\n",
       "    <tr>\n",
       "      <th>985</th>\n",
       "      <td>Still it's quite interesting and entertaining to follow.</td>\n",
       "      <td>1</td>\n",
       "    </tr>\n",
       "    <tr>\n",
       "      <th>2308</th>\n",
       "      <td>In the summer, you can dine in a charming outdoor patio - so very delightful.</td>\n",
       "      <td>1</td>\n",
       "    </tr>\n",
       "    <tr>\n",
       "      <th>2016</th>\n",
       "      <td>Highly recommended.</td>\n",
       "      <td>1</td>\n",
       "    </tr>\n",
       "  </tbody>\n",
       "</table>\n",
       "</div>"
      ],
      "text/plain": [
       "                                                                               Text  \\\n",
       "1414                   After a year the battery went completely dead on my headset.   \n",
       "1519    I am not impressed with this and i would not recommend this item to anyone.   \n",
       "985                      Still it's quite interesting and entertaining to follow.     \n",
       "2308  In the summer, you can dine in a charming outdoor patio - so very delightful.   \n",
       "2016                                                            Highly recommended.   \n",
       "\n",
       "      label  \n",
       "1414      0  \n",
       "1519      0  \n",
       "985       1  \n",
       "2308      1  \n",
       "2016      1  "
      ]
     },
     "execution_count": 5,
     "metadata": {},
     "output_type": "execute_result"
    }
   ],
   "source": [
    "dataframe = dataframe.sample(frac = 1)\n",
    "dataframe.head()"
   ]
  },
  {
   "cell_type": "code",
   "execution_count": 6,
   "metadata": {},
   "outputs": [
    {
     "name": "stdout",
     "output_type": "stream",
     "text": [
      "1500 1500\n"
     ]
    }
   ],
   "source": [
    "ss=0\n",
    "for i in dataframe['label']:\n",
    "    if i==1:\n",
    "        ss+=1\n",
    "print(ss,3000 - ss)"
   ]
  },
  {
   "cell_type": "code",
   "execution_count": 7,
   "metadata": {},
   "outputs": [],
   "source": [
    "X = dataframe.iloc[: , 0].values\n",
    "Y = dataframe.iloc[:,1].values"
   ]
  },
  {
   "cell_type": "markdown",
   "metadata": {},
   "source": [
    "## Splitting dataset into training set and  test set "
   ]
  },
  {
   "cell_type": "code",
   "execution_count": 8,
   "metadata": {},
   "outputs": [],
   "source": [
    "from sklearn.model_selection import train_test_split\n",
    "x_train,x_test,y_train,y_test = train_test_split(X,Y,test_size=0.1,random_state=42)"
   ]
  },
  {
   "cell_type": "markdown",
   "metadata": {},
   "source": [
    "### Contraction mapping "
   ]
  },
  {
   "cell_type": "code",
   "execution_count": 9,
   "metadata": {},
   "outputs": [],
   "source": [
    "contraction_mapping = {\"ain't\": \"is not\", \"aren't\": \"are not\",\"can't\": \"cannot\", \"'cause\": \"because\", \"could've\": \"could have\", \"couldn't\": \"could not\",\n",
    "                           \"didn't\": \"did not\",  \"doesn't\": \"does not\", \"don't\": \"do not\", \"hadn't\": \"had not\", \"hasn't\": \"has not\", \"haven't\": \"have not\",\n",
    "                           \"he'd\": \"he would\",\"he'll\": \"he will\", \"he's\": \"he is\", \"how'd\": \"how did\", \"how'd'y\": \"how do you\", \"how'll\": \"how will\", \"how's\": \"how is\",\n",
    "                           \"I'd\": \"I would\", \"I'd've\": \"I would have\", \"I'll\": \"I will\", \"I'll've\": \"I will have\",\"I'm\": \"I am\", \"I've\": \"I have\", \"i'd\": \"i would\",\n",
    "                           \"i'd've\": \"i would have\", \"i'll\": \"i will\",  \"i'll've\": \"i will have\",\"i'm\": \"i am\", \"i've\": \"i have\", \"isn't\": \"is not\", \"it'd\": \"it would\",\n",
    "                           \"it'd've\": \"it would have\", \"it'll\": \"it will\", \"it'll've\": \"it will have\",\"it's\": \"it is\", \"let's\": \"let us\", \"ma'am\": \"madam\",\n",
    "                           \"mayn't\": \"may not\", \"might've\": \"might have\",\"mightn't\": \"might not\",\"mightn't've\": \"might not have\", \"must've\": \"must have\",\n",
    "                           \"mustn't\": \"must not\", \"mustn't've\": \"must not have\", \"needn't\": \"need not\", \"needn't've\": \"need not have\",\"o'clock\": \"of the clock\",\n",
    "                           \"oughtn't\": \"ought not\", \"oughtn't've\": \"ought not have\", \"shan't\": \"shall not\", \"sha'n't\": \"shall not\", \"shan't've\": \"shall not have\",\n",
    "                           \"she'd\": \"she would\", \"she'd've\": \"she would have\", \"she'll\": \"she will\", \"she'll've\": \"she will have\", \"she's\": \"she is\",\n",
    "                           \"should've\": \"should have\", \"shouldn't\": \"should not\", \"shouldn't've\": \"should not have\", \"so've\": \"so have\",\"so's\": \"so as\",\n",
    "                           \"this's\": \"this is\",\"that'd\": \"that would\", \"that'd've\": \"that would have\", \"that's\": \"that is\", \"there'd\": \"there would\",\n",
    "                           \"there'd've\": \"there would have\", \"there's\": \"there is\", \"here's\": \"here is\",\"they'd\": \"they would\", \"they'd've\": \"they would have\",\n",
    "                           \"they'll\": \"they will\", \"they'll've\": \"they will have\", \"they're\": \"they are\", \"they've\": \"they have\", \"to've\": \"to have\",\n",
    "                           \"wasn't\": \"was not\", \"we'd\": \"we would\", \"we'd've\": \"we would have\", \"we'll\": \"we will\", \"we'll've\": \"we will have\", \"we're\": \"we are\",\n",
    "                           \"we've\": \"we have\", \"weren't\": \"were not\", \"what'll\": \"what will\", \"what'll've\": \"what will have\", \"what're\": \"what are\",\n",
    "                           \"what's\": \"what is\", \"what've\": \"what have\", \"when's\": \"when is\", \"when've\": \"when have\", \"where'd\": \"where did\", \"where's\": \"where is\",\n",
    "                           \"where've\": \"where have\", \"who'll\": \"who will\", \"who'll've\": \"who will have\", \"who's\": \"who is\", \"who've\": \"who have\",\n",
    "                           \"why's\": \"why is\", \"why've\": \"why have\", \"will've\": \"will have\", \"won't\": \"will not\", \"won't've\": \"will not have\",\n",
    "                           \"would've\": \"would have\", \"wouldn't\": \"would not\", \"wouldn't've\": \"would not have\", \"y'all\": \"you all\",\n",
    "                           \"y'all'd\": \"you all would\",\"y'all'd've\": \"you all would have\",\"y'all're\": \"you all are\",\"y'all've\": \"you all have\",\n",
    "                           \"you'd\": \"you would\", \"you'd've\": \"you would have\", \"you'll\": \"you will\", \"you'll've\": \"you will have\",\n",
    "                           \"you're\": \"you are\", \"you've\": \"you have\"}"
   ]
  },
  {
   "cell_type": "markdown",
   "metadata": {},
   "source": [
    "### Removing <i> NOT</i> or <i>NO</i> or <i>very</i> from <b> StopWords</b>"
   ]
  },
  {
   "cell_type": "code",
   "execution_count": 10,
   "metadata": {},
   "outputs": [],
   "source": [
    "stop_words = set(stopwords.words('english')) \n",
    "stop_words.remove('not')\n",
    "stop_words.remove('no')\n",
    "stop_words.remove('very')"
   ]
  },
  {
   "cell_type": "markdown",
   "metadata": {},
   "source": [
    "## Cleaning the text and removing StopWords"
   ]
  },
  {
   "cell_type": "code",
   "execution_count": 11,
   "metadata": {},
   "outputs": [],
   "source": [
    "def text_cleaner(text,num):\n",
    "    newString = text.lower()\n",
    "    newString = BeautifulSoup(newString, \"lxml\").text\n",
    "    newString = re.sub(r'\\([^)]*\\)', '', newString)\n",
    "    newString = re.sub('\"','', newString)\n",
    "    newString = ' '.join([contraction_mapping[t] if t in contraction_mapping else t for t in newString.split(\" \")])    \n",
    "    newString = re.sub(r\"'s\\b\",\"\",newString)\n",
    "    \n",
    "    if(num==0):\n",
    "        tokens = [w for w in newString.split() if not w in stop_words]\n",
    "    else:\n",
    "        tokens=newString.split()\n",
    "    long_words=[]\n",
    "    for i in tokens:\n",
    "        if len(i)>1:                              #removing short word\n",
    "            long_words.append(i)   \n",
    "    return (\" \".join(long_words)).strip()\n",
    "\n",
    "cleaned_text = []\n",
    "for t in x_train:\n",
    "    cleaned_text.append(text_cleaner(t,0))\n",
    "\n",
    "x_train = np.array(cleaned_text)                       # convert the list into array                   "
   ]
  },
  {
   "cell_type": "code",
   "execution_count": 12,
   "metadata": {},
   "outputs": [
    {
     "data": {
      "image/png": "[encoded data removed]",
      "text/plain": [
       "<Figure size 432x288 with 1 Axes>"
      ]
     },
     "metadata": {
      "needs_background": "light"
     },
     "output_type": "display_data"
    }
   ],
   "source": [
    "import matplotlib.pyplot as plt\n",
    "df = pd.DataFrame()\n",
    "pp=[]\n",
    "for i in x_train:\n",
    "    pp.append(len(i.split()))\n",
    "df['count'] = pp\n",
    "plt.scatter(range(2700) , df['count'])\n",
    "plt.ylabel('length')\n",
    "plt.xlabel('text_index')\n",
    "plt.show()"
   ]
  },
  {
   "cell_type": "markdown",
   "metadata": {},
   "source": [
    "### Set the value of max text length"
   ]
  },
  {
   "cell_type": "code",
   "execution_count": 13,
   "metadata": {},
   "outputs": [
    {
     "name": "stdout",
     "output_type": "stream",
     "text": [
      "0.9688888888888889\n"
     ]
    }
   ],
   "source": [
    "max_text_len= 15\n",
    "\n",
    "# checking how many text has length less than 200\n",
    "cnt=0\n",
    "\n",
    "for i in x_train:\n",
    "    if(len(i.split())<=max_text_len):\n",
    "        cnt=cnt+1\n",
    "    \n",
    "print(cnt/len(x_train))"
   ]
  },
  {
   "cell_type": "markdown",
   "metadata": {},
   "source": [
    "### Removing sequence whose length is greater than <i> Max Text length </i>"
   ]
  },
  {
   "cell_type": "code",
   "execution_count": 14,
   "metadata": {},
   "outputs": [],
   "source": [
    "\n",
    "short_texts=[]\n",
    "ratings=[]\n",
    "for i in range(len(x_train)):\n",
    "    if(len(x_train[i].split())<= max_text_len):\n",
    "        short_texts.append(x_train[i])\n",
    "        ratings.append(y_train[i])\n",
    "x_train = np.array(short_texts)\n",
    "y_train = np.array(ratings)\n",
    "df=pd.DataFrame({'text':short_texts,'ratings':ratings})"
   ]
  },
  {
   "cell_type": "code",
   "execution_count": 15,
   "metadata": {},
   "outputs": [
    {
     "data": {
      "text/html": [
       "<div>\n",
       "<style scoped>\n",
       "    .dataframe tbody tr th:only-of-type {\n",
       "        vertical-align: middle;\n",
       "    }\n",
       "\n",
       "    .dataframe tbody tr th {\n",
       "        vertical-align: top;\n",
       "    }\n",
       "\n",
       "    .dataframe thead th {\n",
       "        text-align: right;\n",
       "    }\n",
       "</style>\n",
       "<table border=\"1\" class=\"dataframe\">\n",
       "  <thead>\n",
       "    <tr style=\"text-align: right;\">\n",
       "      <th></th>\n",
       "      <th>text</th>\n",
       "      <th>ratings</th>\n",
       "    </tr>\n",
       "  </thead>\n",
       "  <tbody>\n",
       "    <tr>\n",
       "      <th>0</th>\n",
       "      <td>good protection not make phone bulky.</td>\n",
       "      <td>1</td>\n",
       "    </tr>\n",
       "    <tr>\n",
       "      <th>1</th>\n",
       "      <td>ray charles' life provided excellent biographical material film, goes well beyond another movie musician.</td>\n",
       "      <td>1</td>\n",
       "    </tr>\n",
       "    <tr>\n",
       "      <th>2</th>\n",
       "      <td>plot simply rumbles like machine, desperately depending addition new scenes.</td>\n",
       "      <td>0</td>\n",
       "    </tr>\n",
       "    <tr>\n",
       "      <th>3</th>\n",
       "      <td>definitely one bad ones.</td>\n",
       "      <td>0</td>\n",
       "    </tr>\n",
       "    <tr>\n",
       "      <th>4</th>\n",
       "      <td>camera color balance awful.</td>\n",
       "      <td>0</td>\n",
       "    </tr>\n",
       "  </tbody>\n",
       "</table>\n",
       "</div>"
      ],
      "text/plain": [
       "                                                                                                        text  \\\n",
       "0                                                                      good protection not make phone bulky.   \n",
       "1  ray charles' life provided excellent biographical material film, goes well beyond another movie musician.   \n",
       "2                               plot simply rumbles like machine, desperately depending addition new scenes.   \n",
       "3                                                                                   definitely one bad ones.   \n",
       "4                                                                                camera color balance awful.   \n",
       "\n",
       "   ratings  \n",
       "0        1  \n",
       "1        1  \n",
       "2        0  \n",
       "3        0  \n",
       "4        0  "
      ]
     },
     "execution_count": 15,
     "metadata": {},
     "output_type": "execute_result"
    }
   ],
   "source": [
    "df.head()"
   ]
  },
  {
   "cell_type": "markdown",
   "metadata": {},
   "source": [
    "### Word Embedding from glove"
   ]
  },
  {
   "cell_type": "code",
   "execution_count": 16,
   "metadata": {},
   "outputs": [],
   "source": [
    "def read_glove_vecs(glove_file):\n",
    "    f = open(glove_file, encoding=\"utf-8\", errors='ignore')\n",
    "    word_to_index = {}\n",
    "    index_to_word = {}\n",
    "    word_to_vec_map = {}\n",
    "    i = 0    \n",
    "    for line in f:\n",
    "        line = line.strip().split()\n",
    "        \n",
    "        curr_word = line[0]\n",
    "        \n",
    "        word_to_index[curr_word] = i\n",
    "        index_to_word[i] = curr_word\n",
    "        word_to_vec_map[curr_word] = np.asarray(line[1:], dtype=np.float64)\n",
    "        i+=1\n",
    "            \n",
    "    return word_to_index , index_to_word, word_to_vec_map\n",
    "\n",
    "# function call\n",
    "word_to_index,index_to_word, word_to_vec_map = read_glove_vecs('glove.6B.50d.txt')"
   ]
  },
  {
   "cell_type": "code",
   "execution_count": 17,
   "metadata": {},
   "outputs": [
    {
     "data": {
      "text/plain": [
       "400000"
      ]
     },
     "execution_count": 17,
     "metadata": {},
     "output_type": "execute_result"
    }
   ],
   "source": [
    "len(word_to_vec_map)"
   ]
  },
  {
   "cell_type": "markdown",
   "metadata": {},
   "source": [
    "## Converts an array of sentences (strings) into an array of indices corresponding to words in the sentences."
   ]
  },
  {
   "cell_type": "code",
   "execution_count": 18,
   "metadata": {},
   "outputs": [],
   "source": [
    "def sentences_to_indices(X, word_to_index, maxLen):\n",
    "       \n",
    "    m = X.shape[0]                  # number of training examples\n",
    "    \n",
    "    \n",
    "   \n",
    "    X_indices = np.zeros((m, maxLen))         # Initialize a numpy matrix to zero (to the max len)\n",
    "    \n",
    "    for i in range(m):                                               \n",
    "        sentence_words = X[i].split()       \n",
    "        j = 0        \n",
    "        for w in sentence_words:                            \n",
    "            if w not in word_to_index.keys():\n",
    "                X_indices[i, j] = word_to_index['unk']\n",
    "            else:\n",
    "                X_indices[i, j] = word_to_index[w]            \n",
    "            j += 1\n",
    "   \n",
    "    return X_indices"
   ]
  },
  {
   "cell_type": "code",
   "execution_count": 19,
   "metadata": {},
   "outputs": [],
   "source": [
    "X_train_indices = sentences_to_indices(x_train, word_to_index, max_text_len)    # Converting the array of sequence to array of indices"
   ]
  },
  {
   "cell_type": "markdown",
   "metadata": {},
   "source": [
    "## A Keras Embedding() layer and loads in pre-trained GloVe 50-dimensional vectors."
   ]
  },
  {
   "cell_type": "code",
   "execution_count": 20,
   "metadata": {},
   "outputs": [],
   "source": [
    "def pretrained_embedding_layer(word_to_vec_map, word_to_index):\n",
    "    \n",
    "    \n",
    "    vocab_len = len(word_to_index) + 1                 \n",
    "    emb_dim = word_to_vec_map[\"rahul\"].shape[0]\n",
    "    \n",
    "    emb_matrix = np.zeros((vocab_len, emb_dim))   # create embedding matrix\n",
    "    \n",
    "    for word, index in word_to_index.items():\n",
    "        emb_matrix[index, :] = word_to_vec_map[word]\n",
    "\n",
    "    # Define Keras embedding layer with the correct output/input sizes, make it trainable. Use Embedding(...). Make sure to set trainable=False. \n",
    "    embedding_layer = Embedding(vocab_len, emb_dim, trainable=False)\n",
    "    \n",
    "\n",
    "    # Build the embedding layer, it is required before setting the weights of the embedding layer. Do not modify the \"None\".\n",
    "    embedding_layer.build((None,))\n",
    "    \n",
    "    # Set the weights of the embedding layer to the embedding matrix. Your layer is now pretrained.\n",
    "    embedding_layer.set_weights([emb_matrix])\n",
    "    \n",
    "    return embedding_layer"
   ]
  },
  {
   "cell_type": "markdown",
   "metadata": {},
   "source": [
    "##  Create Model using Bidirectional LSTM"
   ]
  },
  {
   "cell_type": "code",
   "execution_count": 21,
   "metadata": {},
   "outputs": [
    {
     "name": "stdout",
     "output_type": "stream",
     "text": [
      "Model: \"functional_1\"\n",
      "_________________________________________________________________\n",
      "Layer (type)                 Output Shape              Param #   \n",
      "=================================================================\n",
      "input_1 (InputLayer)         [(None, 15)]              0         \n",
      "_________________________________________________________________\n",
      "embedding (Embedding)        (None, 15, 50)            20000050  \n",
      "_________________________________________________________________\n",
      "bidirectional (Bidirectional [(None, 15, 256), (None,  183296    \n",
      "_________________________________________________________________\n",
      "bidirectional_1 (Bidirection [(None, 256), (None, 128) 394240    \n",
      "_________________________________________________________________\n",
      "dense (Dense)                (None, 1)                 257       \n",
      "=================================================================\n",
      "Total params: 20,577,843\n",
      "Trainable params: 577,793\n",
      "Non-trainable params: 20,000,050\n",
      "_________________________________________________________________\n"
     ]
    }
   ],
   "source": [
    "from tensorflow.keras import backend as K \n",
    "K.clear_session()\n",
    "\n",
    "# Encoder\n",
    "sentence_indices = Input(shape=(max_text_len,), dtype='int32')\n",
    "\n",
    "# Embedding layer\n",
    "embedding_layer = pretrained_embedding_layer(word_to_vec_map, word_to_index)\n",
    "enc_emb =  embedding_layer(sentence_indices)   \n",
    "\n",
    "#encoder lstm1\n",
    "encoder_lstm1_f = LSTM(128,return_sequences=True,return_state=True,dropout=0.4,recurrent_dropout=0.4)\n",
    "encoder_lstm1_r = LSTM(128,return_sequences=True,return_state=True,dropout=0.4,recurrent_dropout=0.4,go_backwards=True)## ##\n",
    "\n",
    "encoder_bi1 = Bidirectional(encoder_lstm1_f, backward_layer=encoder_lstm1_r,)\n",
    "encoder_output1, state_h1, state_c1, state_r_h1, state_r_h1 = encoder_bi1(enc_emb)\n",
    "\n",
    "#encoder lstm 2\n",
    "encoder_lstm2_r = LSTM(128,return_sequences=False,return_state=True,dropout=0.4,recurrent_dropout=0.4,go_backwards=True)##\n",
    "encoder_lstm2_f = LSTM(128,return_sequences=False,return_state=True,dropout=0.4,recurrent_dropout=0.4)\n",
    "\n",
    "encoder_bi2 = Bidirectional(encoder_lstm2_f, backward_layer=encoder_lstm2_r)\n",
    "encoder_output2, state_h2, state_c2, state_r_h2, state_r_h2 = encoder_bi2(encoder_output1)\n",
    "\n",
    "X = Dense(1 , activation = 'sigmoid')(encoder_output2)\n",
    "\n",
    "# Define the model \n",
    "model = Model(inputs = sentence_indices, outputs = X)\n",
    "\n",
    "model.summary()"
   ]
  },
  {
   "cell_type": "code",
   "execution_count": 22,
   "metadata": {},
   "outputs": [],
   "source": [
    "model.compile(optimizer='adam', loss='binary_crossentropy' , metrics=['accuracy'])"
   ]
  },
  {
   "cell_type": "markdown",
   "metadata": {},
   "source": [
    "## Train the model "
   ]
  },
  {
   "cell_type": "code",
   "execution_count": 23,
   "metadata": {
    "scrolled": false
   },
   "outputs": [
    {
     "name": "stdout",
     "output_type": "stream",
     "text": [
      "Epoch 1/20\n",
      "82/82 [==============================] - 8s 92ms/step - loss: 0.6367 - accuracy: 0.6319\n",
      "Epoch 2/20\n",
      "82/82 [==============================] - 7s 88ms/step - loss: 0.5661 - accuracy: 0.7091\n",
      "Epoch 3/20\n",
      "82/82 [==============================] - 7s 88ms/step - loss: 0.5542 - accuracy: 0.7083\n",
      "Epoch 4/20\n",
      "82/82 [==============================] - 7s 83ms/step - loss: 0.5407 - accuracy: 0.7282\n",
      "Epoch 5/20\n",
      "82/82 [==============================] - 7s 80ms/step - loss: 0.5286 - accuracy: 0.7339\n",
      "Epoch 6/20\n",
      "82/82 [==============================] - 7s 84ms/step - loss: 0.5145 - accuracy: 0.7381\n",
      "Epoch 7/20\n",
      "82/82 [==============================] - 7s 89ms/step - loss: 0.5099 - accuracy: 0.7462\n",
      "Epoch 8/20\n",
      "82/82 [==============================] - 7s 91ms/step - loss: 0.5000 - accuracy: 0.7523\n",
      "Epoch 9/20\n",
      "82/82 [==============================] - 7s 89ms/step - loss: 0.4816 - accuracy: 0.7580\n",
      "Epoch 10/20\n",
      "82/82 [==============================] - 7s 90ms/step - loss: 0.4803 - accuracy: 0.7607\n",
      "Epoch 11/20\n",
      "82/82 [==============================] - 7s 91ms/step - loss: 0.4649 - accuracy: 0.7641 1s - loss:\n",
      "Epoch 12/20\n",
      "82/82 [==============================] - 7s 83ms/step - loss: 0.4726 - accuracy: 0.7653\n",
      "Epoch 13/20\n",
      "82/82 [==============================] - 8s 93ms/step - loss: 0.4518 - accuracy: 0.7844\n",
      "Epoch 14/20\n",
      "82/82 [==============================] - 8s 94ms/step - loss: 0.4391 - accuracy: 0.7829\n",
      "Epoch 15/20\n",
      "82/82 [==============================] - 7s 90ms/step - loss: 0.4339 - accuracy: 0.7905\n",
      "Epoch 16/20\n",
      "82/82 [==============================] - 7s 83ms/step - loss: 0.4220 - accuracy: 0.7963\n",
      "Epoch 17/20\n",
      "82/82 [==============================] - 7s 80ms/step - loss: 0.4143 - accuracy: 0.8047\n",
      "Epoch 18/20\n",
      "82/82 [==============================] - 7s 84ms/step - loss: 0.4097 - accuracy: 0.8047 2s - loss:\n",
      "Epoch 19/20\n",
      "82/82 [==============================] - 7s 83ms/step - loss: 0.3947 - accuracy: 0.8165\n",
      "Epoch 20/20\n",
      "82/82 [==============================] - 7s 80ms/step - loss: 0.3832 - accuracy: 0.8200\n"
     ]
    },
    {
     "data": {
      "text/plain": [
       "<tensorflow.python.keras.callbacks.History at 0x1d73f9de5c8>"
      ]
     },
     "execution_count": 23,
     "metadata": {},
     "output_type": "execute_result"
    }
   ],
   "source": [
    "model.fit(X_train_indices, y_train, epochs =20 ,batch_size = 32)"
   ]
  },
  {
   "cell_type": "markdown",
   "metadata": {},
   "source": [
    "## Model performance on test data"
   ]
  },
  {
   "cell_type": "code",
   "execution_count": 27,
   "metadata": {},
   "outputs": [],
   "source": [
    "cleaned_text = []\n",
    "for t in x_test:\n",
    "    cleaned_text.append(text_cleaner(t,0))\n",
    "x_test = np.array(cleaned_text) \n",
    "\n",
    "short_texts=[]\n",
    "label = []\n",
    "for i in range(len(x_test)):\n",
    "    if(len(x_test[i].split())<= max_text_len):\n",
    "        short_texts.append(x_test[i])\n",
    "        label.append(y_test[i])\n",
    "       \n",
    "x_test = np.array(short_texts)\n",
    "y_test = np.array(label)\n",
    "x_test_indices = sentences_to_indices(x_test , word_to_index , max_text_len)"
   ]
  },
  {
   "cell_type": "code",
   "execution_count": 28,
   "metadata": {},
   "outputs": [
    {
     "name": "stdout",
     "output_type": "stream",
     "text": [
      "10/10 [==============================] - 0s 9ms/step - loss: 0.4473 - accuracy: 0.8103\n",
      "\n",
      "Test accuracy =  0.8103448152542114\n"
     ]
    }
   ],
   "source": [
    "\n",
    "loss, acc = model.evaluate(x_test_indices, y_test)\n",
    "print()\n",
    "print(\"Test accuracy = \", acc)"
   ]
  },
  {
   "cell_type": "markdown",
   "metadata": {},
   "source": [
    "## Model gives the accuracy 81% on test data ,, \n",
    "\n",
    "### Lets try to predict some reviews"
   ]
  },
  {
   "cell_type": "code",
   "execution_count": 29,
   "metadata": {},
   "outputs": [
    {
     "data": {
      "text/plain": [
       "array([[0]])"
      ]
     },
     "execution_count": 29,
     "metadata": {},
     "output_type": "execute_result"
    }
   ],
   "source": [
    "y_pred = (model.predict(sentences_to_indices(np.array([' very bad movie ']) , word_to_index , max_text_len)) > 0.5).astype(\"int32\")\n",
    "y_pred"
   ]
  },
  {
   "cell_type": "code",
   "execution_count": 30,
   "metadata": {},
   "outputs": [
    {
     "data": {
      "text/plain": [
       "array([[1]])"
      ]
     },
     "execution_count": 30,
     "metadata": {},
     "output_type": "execute_result"
    }
   ],
   "source": [
    "y_pred = (model.predict(sentences_to_indices(np.array([' product was very good ']) , word_to_index , max_text_len)) > 0.5).astype(\"int32\")\n",
    "y_pred"
   ]
  }
 ],
 "metadata": {
  "kernelspec": {
   "display_name": "Python 3",
   "language": "python",
   "name": "python3"
  },
  "language_info": {
   "codemirror_mode": {
    "name": "ipython",
    "version": 3
   },
   "file_extension": ".py",
   "mimetype": "text/x-python",
   "name": "python",
   "nbconvert_exporter": "python",
   "pygments_lexer": "ipython3",
   "version": "3.7.6"
  }
 },
 "nbformat": 4,
 "nbformat_minor": 4
}
